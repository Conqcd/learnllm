{
 "cells": [
  {
   "cell_type": "markdown",
   "id": "91055237",
   "metadata": {},
   "source": [
    "学习Langchain"
   ]
  },
  {
   "cell_type": "markdown",
   "id": "d6a73403",
   "metadata": {},
   "source": [
    "各类模板"
   ]
  },
  {
   "cell_type": "code",
   "execution_count": null,
   "id": "0f64edde",
   "metadata": {},
   "outputs": [
    {
     "data": {
      "text/plain": [
       "'You are a helpful assistant. Answer the question: What is Langchain?'"
      ]
     },
     "execution_count": 1,
     "metadata": {},
     "output_type": "execute_result"
    }
   ],
   "source": [
    "from langchain.prompts import PromptTemplate\n",
    "#这个模板完全就是一个字符串模板，使用`{}`来表示变量的位置。\n",
    "prompt_template = PromptTemplate.from_template(\n",
    "    template=\"You are a helpful assistant. Answer the question: {question}\",\n",
    ")\n",
    "prompt_template.format(question=\"What is Langchain?\")"
   ]
  },
  {
   "cell_type": "code",
   "execution_count": null,
   "id": "329fe28f-0bbb-4138-9d32-d8de3ef1db18",
   "metadata": {},
   "outputs": [
    {
     "data": {
      "text/plain": [
       "[SystemMessage(content='You are a helpful AI bot. Your name is Bob.', additional_kwargs={}, response_metadata={}),\n",
       " HumanMessage(content='Hello, how are you doing?', additional_kwargs={}, response_metadata={}),\n",
       " AIMessage(content=\"I'm doing well, thanks!\", additional_kwargs={}, response_metadata={}),\n",
       " HumanMessage(content='What is your name?', additional_kwargs={}, response_metadata={})]"
      ]
     },
     "execution_count": 2,
     "metadata": {},
     "output_type": "execute_result"
    }
   ],
   "source": [
    "from langchain.prompts import ChatPromptTemplate\n",
    "#这个模板用于聊天场景，支持多轮对话的格式化。方便你管理对话的上下文。\n",
    "chat_prompt_template = ChatPromptTemplate.from_messages(\n",
    "    [\n",
    "        (\"system\", \"You are a helpful AI bot. Your name is {name}.\"),\n",
    "        (\"human\", \"Hello, how are you doing?\"),\n",
    "        (\"ai\", \"I'm doing well, thanks!\"),\n",
    "        (\"human\", \"{user_input}\"),\n",
    "    ]\n",
    ")\n",
    "chat_prompt_template.format_messages(name=\"Bob\", user_input=\"What is your name?\")"
   ]
  },
  {
   "cell_type": "code",
   "execution_count": null,
   "id": "c9079c57",
   "metadata": {},
   "outputs": [
    {
     "data": {
      "text/plain": [
       "ChatMessage(content='You are a helpful assistant. Answer the question: What is Langchain?', additional_kwargs={}, response_metadata={}, role='C')"
      ]
     },
     "execution_count": 5,
     "metadata": {},
     "output_type": "execute_result"
    }
   ],
   "source": [
    "from langchain.prompts import ChatMessagePromptTemplate\n",
    "\n",
    "#这个模板用于聊天消息的格式化，支持更复杂的消息结构。单条信息\n",
    "chat_message_prompt_template = ChatMessagePromptTemplate.from_template(\n",
    "    role = 'C',\n",
    "    template=\"You are a helpful assistant. Answer the question: {question}\"\n",
    ")\n",
    "chat_message_prompt_template.format(question=\"What is Langchain?\")"
   ]
  },
  {
   "cell_type": "code",
   "execution_count": null,
   "id": "4dab414f",
   "metadata": {},
   "outputs": [],
   "source": [
    "from langchain.prompts import MessagesPlaceholder\n",
    "\n",
    "# MessagesPlaceholder 用于在聊天模板中占位，表示将来会填充的消息。\n",
    "messages_placeholder = MessagesPlaceholder(variable_name=\"messages\")"
   ]
  }
 ],
 "metadata": {
  "kernelspec": {
   "display_name": "base",
   "language": "python",
   "name": "python3"
  },
  "language_info": {
   "codemirror_mode": {
    "name": "ipython",
    "version": 3
   },
   "file_extension": ".py",
   "mimetype": "text/x-python",
   "name": "python",
   "nbconvert_exporter": "python",
   "pygments_lexer": "ipython3",
   "version": "3.11.4"
  }
 },
 "nbformat": 4,
 "nbformat_minor": 5
}

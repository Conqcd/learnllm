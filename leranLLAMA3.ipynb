{
 "cells": [
  {
   "cell_type": "markdown",
   "id": "ee43ac49",
   "metadata": {},
   "source": [
    "实现LLAMA3"
   ]
  },
  {
   "cell_type": "code",
   "execution_count": 117,
   "id": "79c6c5af-df4b-4524-b14d-382adf2e784d",
   "metadata": {},
   "outputs": [
    {
     "data": {
      "text/plain": [
       "'hello world!'"
      ]
     },
     "execution_count": 117,
     "metadata": {},
     "output_type": "execute_result"
    }
   ],
   "source": [
    "from pathlib import Path\n",
    "import tiktoken\n",
    "from tiktoken.load import load_tiktoken_bpe\n",
    "import torch\n",
    "import json\n",
    "import matplotlib.pyplot as plt\n",
    "\n",
    "tokenizer_path = \"Meta-Llama-3-8B/tokenizer.model\"\n",
    "special_tokens = [\n",
    "            \"<|begin_of_text|>\",\n",
    "            \"<|end_of_text|>\",\n",
    "            \"<|reserved_special_token_0|>\",\n",
    "            \"<|reserved_special_token_1|>\",\n",
    "            \"<|reserved_special_token_2|>\",\n",
    "            \"<|reserved_special_token_3|>\",\n",
    "            \"<|start_header_id|>\",\n",
    "            \"<|end_header_id|>\",\n",
    "            \"<|reserved_special_token_4|>\",\n",
    "            \"<|eot_id|>\",  # end of turn\n",
    "        ] + [f\"<|reserved_special_token_{i}|>\" for i in range(5, 256 - 5)]\n",
    "mergeable_ranks = load_tiktoken_bpe(tokenizer_path)\n",
    "tokenizer = tiktoken.Encoding(\n",
    "    name=Path(tokenizer_path).name,\n",
    "    pat_str=r\"(?i:'s|'t|'re|'ve|'m|'ll|'d)|[^\\r\\n\\p{L}\\p{N}]?\\p{L}+|\\p{N}{1,3}| ?[^\\s\\p{L}\\p{N}]+[\\r\\n]*|\\s*[\\r\\n]+|\\s+(?!\\S)|\\s+\",\n",
    "    mergeable_ranks=mergeable_ranks,\n",
    "    special_tokens={token: len(mergeable_ranks) + i for i, token in enumerate(special_tokens)},\n",
    ")\n",
    "\n",
    "tokenizer.decode(tokenizer.encode(\"hello world!\"))"
   ]
  },
  {
   "cell_type": "markdown",
   "id": "27b876ba",
   "metadata": {},
   "source": [
    "加载模型"
   ]
  },
  {
   "cell_type": "code",
   "execution_count": 118,
   "id": "d75282f6",
   "metadata": {},
   "outputs": [
    {
     "name": "stdout",
     "output_type": "stream",
     "text": [
      "[\n",
      "    \"tok_embeddings.weight\",\n",
      "    \"layers.0.attention.wq.weight\",\n",
      "    \"layers.0.attention.wk.weight\",\n",
      "    \"layers.0.attention.wv.weight\",\n",
      "    \"layers.0.attention.wo.weight\",\n",
      "    \"layers.0.feed_forward.w1.weight\",\n",
      "    \"layers.0.feed_forward.w3.weight\",\n",
      "    \"layers.0.feed_forward.w2.weight\",\n",
      "    \"layers.0.attention_norm.weight\",\n",
      "    \"layers.0.ffn_norm.weight\",\n",
      "    \"layers.1.attention.wq.weight\",\n",
      "    \"layers.1.attention.wk.weight\",\n",
      "    \"layers.1.attention.wv.weight\",\n",
      "    \"layers.1.attention.wo.weight\",\n",
      "    \"layers.1.feed_forward.w1.weight\",\n",
      "    \"layers.1.feed_forward.w3.weight\",\n",
      "    \"layers.1.feed_forward.w2.weight\",\n",
      "    \"layers.1.attention_norm.weight\",\n",
      "    \"layers.1.ffn_norm.weight\",\n",
      "    \"layers.2.attention.wq.weight\"\n",
      "]\n"
     ]
    }
   ],
   "source": [
    "model = torch.load(\"Meta-Llama-3-8B/consolidated.00.pth\")\n",
    "print(json.dumps(list(model.keys())[:20], indent=4))"
   ]
  },
  {
   "cell_type": "code",
   "execution_count": 119,
   "id": "593eb9aa",
   "metadata": {},
   "outputs": [
    {
     "data": {
      "text/plain": [
       "{'dim': 4096,\n",
       " 'n_layers': 32,\n",
       " 'n_heads': 32,\n",
       " 'n_kv_heads': 8,\n",
       " 'vocab_size': 128256,\n",
       " 'multiple_of': 1024,\n",
       " 'ffn_dim_multiplier': 1.3,\n",
       " 'norm_eps': 1e-05,\n",
       " 'rope_theta': 500000.0}"
      ]
     },
     "execution_count": 119,
     "metadata": {},
     "output_type": "execute_result"
    }
   ],
   "source": [
    "with open(\"Meta-Llama-3-8B/params.json\", \"r\") as f:\n",
    "    config = json.load(f)\n",
    "config"
   ]
  },
  {
   "cell_type": "code",
   "execution_count": 120,
   "id": "99f8014c",
   "metadata": {},
   "outputs": [],
   "source": [
    "dim = config[\"dim\"]\n",
    "n_layers = config[\"n_layers\"]\n",
    "n_heads = config[\"n_heads\"]\n",
    "n_kv_heads = config[\"n_kv_heads\"]\n",
    "vocab_size = config[\"vocab_size\"]\n",
    "multiple_of = config[\"multiple_of\"]\n",
    "ffn_dim_multiplier = config[\"ffn_dim_multiplier\"]\n",
    "norm_eps = config[\"norm_eps\"]\n",
    "rope_theta = torch.tensor(config[\"rope_theta\"])"
   ]
  },
  {
   "cell_type": "code",
   "execution_count": 121,
   "id": "bb3bedc5",
   "metadata": {},
   "outputs": [
    {
     "name": "stdout",
     "output_type": "stream",
     "text": [
      "[128000, 1820, 4320, 311, 279, 17139, 3488, 315, 2324, 11, 279, 15861, 11, 323, 4395, 374, 220]\n",
      "['<|begin_of_text|>', 'the', ' answer', ' to', ' the', ' ultimate', ' question', ' of', ' life', ',', ' the', ' universe', ',', ' and', ' everything', ' is', ' ']\n"
     ]
    },
    {
     "data": {
      "text/plain": [
       "torch.Size([17])"
      ]
     },
     "execution_count": 121,
     "metadata": {},
     "output_type": "execute_result"
    }
   ],
   "source": [
    "prompt = \"the answer to the ultimate question of life, the universe, and everything is \"\n",
    "prompt_tokens = [128000] + tokenizer.encode(prompt)\n",
    "#128000 is the <|begin_of_text|> token\n",
    "print(prompt_tokens)\n",
    "prompt_tokens = torch.tensor(prompt_tokens)\n",
    "prompt_split_as_tokens = [tokenizer.decode([token.item()]) for token in prompt_tokens]\n",
    "print(prompt_split_as_tokens)\n",
    "prompt_tokens.shape"
   ]
  },
  {
   "cell_type": "markdown",
   "id": "3a68a24d",
   "metadata": {},
   "source": [
    "从Token转为Embedding"
   ]
  },
  {
   "cell_type": "code",
   "execution_count": 122,
   "id": "7177c432",
   "metadata": {},
   "outputs": [
    {
     "data": {
      "text/plain": [
       "torch.Size([17, 4096])"
      ]
     },
     "execution_count": 122,
     "metadata": {},
     "output_type": "execute_result"
    }
   ],
   "source": [
    "embedding_layer = torch.nn.Embedding(vocab_size, dim, padding_idx=0)\n",
    "embedding_layer.weight.data = model[\"tok_embeddings.weight\"]\n",
    "token_embeddings_unnormalized = embedding_layer(prompt_tokens).to(torch.bfloat16)\n",
    "token_embeddings_unnormalized.shape"
   ]
  },
  {
   "cell_type": "code",
   "execution_count": 123,
   "id": "37f1bcbe",
   "metadata": {},
   "outputs": [],
   "source": [
    "def rms(tensor,weight=1.0):\n",
    "    return weight * (tensor * torch.rsqrt(tensor.pow(2).mean(-1, keepdim=True) + norm_eps))"
   ]
  },
  {
   "cell_type": "code",
   "execution_count": 124,
   "id": "2f65848f",
   "metadata": {},
   "outputs": [
    {
     "data": {
      "text/plain": [
       "torch.Size([17, 4096])"
      ]
     },
     "execution_count": 124,
     "metadata": {},
     "output_type": "execute_result"
    }
   ],
   "source": [
    "token_embedding = rms(token_embeddings_unnormalized, weight=model[\"layers.0.attention_norm.weight\"])\n",
    "\n",
    "token_embedding.shape"
   ]
  },
  {
   "cell_type": "code",
   "execution_count": 125,
   "id": "13deef9c",
   "metadata": {},
   "outputs": [
    {
     "data": {
      "text/plain": [
       "dict_keys(['tok_embeddings.weight', 'layers.0.attention.wq.weight', 'layers.0.attention.wk.weight', 'layers.0.attention.wv.weight', 'layers.0.attention.wo.weight', 'layers.0.feed_forward.w1.weight', 'layers.0.feed_forward.w3.weight', 'layers.0.feed_forward.w2.weight', 'layers.0.attention_norm.weight', 'layers.0.ffn_norm.weight', 'layers.1.attention.wq.weight', 'layers.1.attention.wk.weight', 'layers.1.attention.wv.weight', 'layers.1.attention.wo.weight', 'layers.1.feed_forward.w1.weight', 'layers.1.feed_forward.w3.weight', 'layers.1.feed_forward.w2.weight', 'layers.1.attention_norm.weight', 'layers.1.ffn_norm.weight', 'layers.2.attention.wq.weight', 'layers.2.attention.wk.weight', 'layers.2.attention.wv.weight', 'layers.2.attention.wo.weight', 'layers.2.feed_forward.w1.weight', 'layers.2.feed_forward.w3.weight', 'layers.2.feed_forward.w2.weight', 'layers.2.attention_norm.weight', 'layers.2.ffn_norm.weight', 'layers.3.attention.wq.weight', 'layers.3.attention.wk.weight', 'layers.3.attention.wv.weight', 'layers.3.attention.wo.weight', 'layers.3.feed_forward.w1.weight', 'layers.3.feed_forward.w3.weight', 'layers.3.feed_forward.w2.weight', 'layers.3.attention_norm.weight', 'layers.3.ffn_norm.weight', 'layers.4.attention.wq.weight', 'layers.4.attention.wk.weight', 'layers.4.attention.wv.weight', 'layers.4.attention.wo.weight', 'layers.4.feed_forward.w1.weight', 'layers.4.feed_forward.w3.weight', 'layers.4.feed_forward.w2.weight', 'layers.4.attention_norm.weight', 'layers.4.ffn_norm.weight', 'layers.5.attention.wq.weight', 'layers.5.attention.wk.weight', 'layers.5.attention.wv.weight', 'layers.5.attention.wo.weight', 'layers.5.feed_forward.w1.weight', 'layers.5.feed_forward.w3.weight', 'layers.5.feed_forward.w2.weight', 'layers.5.attention_norm.weight', 'layers.5.ffn_norm.weight', 'layers.6.attention.wq.weight', 'layers.6.attention.wk.weight', 'layers.6.attention.wv.weight', 'layers.6.attention.wo.weight', 'layers.6.feed_forward.w1.weight', 'layers.6.feed_forward.w3.weight', 'layers.6.feed_forward.w2.weight', 'layers.6.attention_norm.weight', 'layers.6.ffn_norm.weight', 'layers.7.attention.wq.weight', 'layers.7.attention.wk.weight', 'layers.7.attention.wv.weight', 'layers.7.attention.wo.weight', 'layers.7.feed_forward.w1.weight', 'layers.7.feed_forward.w3.weight', 'layers.7.feed_forward.w2.weight', 'layers.7.attention_norm.weight', 'layers.7.ffn_norm.weight', 'layers.8.attention.wq.weight', 'layers.8.attention.wk.weight', 'layers.8.attention.wv.weight', 'layers.8.attention.wo.weight', 'layers.8.feed_forward.w1.weight', 'layers.8.feed_forward.w3.weight', 'layers.8.feed_forward.w2.weight', 'layers.8.attention_norm.weight', 'layers.8.ffn_norm.weight', 'layers.9.attention.wq.weight', 'layers.9.attention.wk.weight', 'layers.9.attention.wv.weight', 'layers.9.attention.wo.weight', 'layers.9.feed_forward.w1.weight', 'layers.9.feed_forward.w3.weight', 'layers.9.feed_forward.w2.weight', 'layers.9.attention_norm.weight', 'layers.9.ffn_norm.weight', 'layers.10.attention.wq.weight', 'layers.10.attention.wk.weight', 'layers.10.attention.wv.weight', 'layers.10.attention.wo.weight', 'layers.10.feed_forward.w1.weight', 'layers.10.feed_forward.w3.weight', 'layers.10.feed_forward.w2.weight', 'layers.10.attention_norm.weight', 'layers.10.ffn_norm.weight', 'layers.11.attention.wq.weight', 'layers.11.attention.wk.weight', 'layers.11.attention.wv.weight', 'layers.11.attention.wo.weight', 'layers.11.feed_forward.w1.weight', 'layers.11.feed_forward.w3.weight', 'layers.11.feed_forward.w2.weight', 'layers.11.attention_norm.weight', 'layers.11.ffn_norm.weight', 'layers.12.attention.wq.weight', 'layers.12.attention.wk.weight', 'layers.12.attention.wv.weight', 'layers.12.attention.wo.weight', 'layers.12.feed_forward.w1.weight', 'layers.12.feed_forward.w3.weight', 'layers.12.feed_forward.w2.weight', 'layers.12.attention_norm.weight', 'layers.12.ffn_norm.weight', 'layers.13.attention.wq.weight', 'layers.13.attention.wk.weight', 'layers.13.attention.wv.weight', 'layers.13.attention.wo.weight', 'layers.13.feed_forward.w1.weight', 'layers.13.feed_forward.w3.weight', 'layers.13.feed_forward.w2.weight', 'layers.13.attention_norm.weight', 'layers.13.ffn_norm.weight', 'layers.14.attention.wq.weight', 'layers.14.attention.wk.weight', 'layers.14.attention.wv.weight', 'layers.14.attention.wo.weight', 'layers.14.feed_forward.w1.weight', 'layers.14.feed_forward.w3.weight', 'layers.14.feed_forward.w2.weight', 'layers.14.attention_norm.weight', 'layers.14.ffn_norm.weight', 'layers.15.attention.wq.weight', 'layers.15.attention.wk.weight', 'layers.15.attention.wv.weight', 'layers.15.attention.wo.weight', 'layers.15.feed_forward.w1.weight', 'layers.15.feed_forward.w3.weight', 'layers.15.feed_forward.w2.weight', 'layers.15.attention_norm.weight', 'layers.15.ffn_norm.weight', 'layers.16.attention.wq.weight', 'layers.16.attention.wk.weight', 'layers.16.attention.wv.weight', 'layers.16.attention.wo.weight', 'layers.16.feed_forward.w1.weight', 'layers.16.feed_forward.w3.weight', 'layers.16.feed_forward.w2.weight', 'layers.16.attention_norm.weight', 'layers.16.ffn_norm.weight', 'layers.17.attention.wq.weight', 'layers.17.attention.wk.weight', 'layers.17.attention.wv.weight', 'layers.17.attention.wo.weight', 'layers.17.feed_forward.w1.weight', 'layers.17.feed_forward.w3.weight', 'layers.17.feed_forward.w2.weight', 'layers.17.attention_norm.weight', 'layers.17.ffn_norm.weight', 'layers.18.attention.wq.weight', 'layers.18.attention.wk.weight', 'layers.18.attention.wv.weight', 'layers.18.attention.wo.weight', 'layers.18.feed_forward.w1.weight', 'layers.18.feed_forward.w3.weight', 'layers.18.feed_forward.w2.weight', 'layers.18.attention_norm.weight', 'layers.18.ffn_norm.weight', 'layers.19.attention.wq.weight', 'layers.19.attention.wk.weight', 'layers.19.attention.wv.weight', 'layers.19.attention.wo.weight', 'layers.19.feed_forward.w1.weight', 'layers.19.feed_forward.w3.weight', 'layers.19.feed_forward.w2.weight', 'layers.19.attention_norm.weight', 'layers.19.ffn_norm.weight', 'layers.20.attention.wq.weight', 'layers.20.attention.wk.weight', 'layers.20.attention.wv.weight', 'layers.20.attention.wo.weight', 'layers.20.feed_forward.w1.weight', 'layers.20.feed_forward.w3.weight', 'layers.20.feed_forward.w2.weight', 'layers.20.attention_norm.weight', 'layers.20.ffn_norm.weight', 'layers.21.attention.wq.weight', 'layers.21.attention.wk.weight', 'layers.21.attention.wv.weight', 'layers.21.attention.wo.weight', 'layers.21.feed_forward.w1.weight', 'layers.21.feed_forward.w3.weight', 'layers.21.feed_forward.w2.weight', 'layers.21.attention_norm.weight', 'layers.21.ffn_norm.weight', 'layers.22.attention.wq.weight', 'layers.22.attention.wk.weight', 'layers.22.attention.wv.weight', 'layers.22.attention.wo.weight', 'layers.22.feed_forward.w1.weight', 'layers.22.feed_forward.w3.weight', 'layers.22.feed_forward.w2.weight', 'layers.22.attention_norm.weight', 'layers.22.ffn_norm.weight', 'layers.23.attention.wq.weight', 'layers.23.attention.wk.weight', 'layers.23.attention.wv.weight', 'layers.23.attention.wo.weight', 'layers.23.feed_forward.w1.weight', 'layers.23.feed_forward.w3.weight', 'layers.23.feed_forward.w2.weight', 'layers.23.attention_norm.weight', 'layers.23.ffn_norm.weight', 'layers.24.attention.wq.weight', 'layers.24.attention.wk.weight', 'layers.24.attention.wv.weight', 'layers.24.attention.wo.weight', 'layers.24.feed_forward.w1.weight', 'layers.24.feed_forward.w3.weight', 'layers.24.feed_forward.w2.weight', 'layers.24.attention_norm.weight', 'layers.24.ffn_norm.weight', 'layers.25.attention.wq.weight', 'layers.25.attention.wk.weight', 'layers.25.attention.wv.weight', 'layers.25.attention.wo.weight', 'layers.25.feed_forward.w1.weight', 'layers.25.feed_forward.w3.weight', 'layers.25.feed_forward.w2.weight', 'layers.25.attention_norm.weight', 'layers.25.ffn_norm.weight', 'layers.26.attention.wq.weight', 'layers.26.attention.wk.weight', 'layers.26.attention.wv.weight', 'layers.26.attention.wo.weight', 'layers.26.feed_forward.w1.weight', 'layers.26.feed_forward.w3.weight', 'layers.26.feed_forward.w2.weight', 'layers.26.attention_norm.weight', 'layers.26.ffn_norm.weight', 'layers.27.attention.wq.weight', 'layers.27.attention.wk.weight', 'layers.27.attention.wv.weight', 'layers.27.attention.wo.weight', 'layers.27.feed_forward.w1.weight', 'layers.27.feed_forward.w3.weight', 'layers.27.feed_forward.w2.weight', 'layers.27.attention_norm.weight', 'layers.27.ffn_norm.weight', 'layers.28.attention.wq.weight', 'layers.28.attention.wk.weight', 'layers.28.attention.wv.weight', 'layers.28.attention.wo.weight', 'layers.28.feed_forward.w1.weight', 'layers.28.feed_forward.w3.weight', 'layers.28.feed_forward.w2.weight', 'layers.28.attention_norm.weight', 'layers.28.ffn_norm.weight', 'layers.29.attention.wq.weight', 'layers.29.attention.wk.weight', 'layers.29.attention.wv.weight', 'layers.29.attention.wo.weight', 'layers.29.feed_forward.w1.weight', 'layers.29.feed_forward.w3.weight', 'layers.29.feed_forward.w2.weight', 'layers.29.attention_norm.weight', 'layers.29.ffn_norm.weight', 'layers.30.attention.wq.weight', 'layers.30.attention.wk.weight', 'layers.30.attention.wv.weight', 'layers.30.attention.wo.weight', 'layers.30.feed_forward.w1.weight', 'layers.30.feed_forward.w3.weight', 'layers.30.feed_forward.w2.weight', 'layers.30.attention_norm.weight', 'layers.30.ffn_norm.weight', 'layers.31.attention.wq.weight', 'layers.31.attention.wk.weight', 'layers.31.attention.wv.weight', 'layers.31.attention.wo.weight', 'layers.31.feed_forward.w1.weight', 'layers.31.feed_forward.w3.weight', 'layers.31.feed_forward.w2.weight', 'layers.31.attention_norm.weight', 'layers.31.ffn_norm.weight', 'norm.weight', 'output.weight'])"
      ]
     },
     "execution_count": 125,
     "metadata": {},
     "output_type": "execute_result"
    }
   ],
   "source": [
    "model.keys()"
   ]
  },
  {
   "cell_type": "code",
   "execution_count": 126,
   "id": "fc348f09",
   "metadata": {},
   "outputs": [
    {
     "data": {
      "text/plain": [
       "torch.Size([128, 4096])"
      ]
     },
     "execution_count": 126,
     "metadata": {},
     "output_type": "execute_result"
    }
   ],
   "source": [
    "qlayer = model[\"layers.0.attention.wq.weight\"]\n",
    "head_dim = qlayer.shape[0] // n_heads\n",
    "qlayer = qlayer.view(n_heads, head_dim, dim)\n",
    "q0 = qlayer[0]\n",
    "q0.shape\n"
   ]
  },
  {
   "cell_type": "code",
   "execution_count": 127,
   "id": "d75a0dfa",
   "metadata": {},
   "outputs": [
    {
     "data": {
      "text/plain": [
       "torch.Size([17, 128])"
      ]
     },
     "execution_count": 127,
     "metadata": {},
     "output_type": "execute_result"
    }
   ],
   "source": [
    "q_per_token = torch.matmul(token_embedding, q0.T)\n",
    "q_per_token.shape"
   ]
  },
  {
   "cell_type": "markdown",
   "id": "35f9ca39",
   "metadata": {},
   "source": [
    "ROPE"
   ]
  },
  {
   "cell_type": "code",
   "execution_count": 128,
   "id": "2ece960c",
   "metadata": {},
   "outputs": [
    {
     "data": {
      "text/plain": [
       "torch.Size([17, 64, 2])"
      ]
     },
     "execution_count": 128,
     "metadata": {},
     "output_type": "execute_result"
    }
   ],
   "source": [
    "q_per_token_rope = q_per_token.float().view(q_per_token.shape[0],-1,2)\n",
    "q_per_token_rope.shape\n"
   ]
  },
  {
   "cell_type": "code",
   "execution_count": 129,
   "id": "b41649a4",
   "metadata": {},
   "outputs": [
    {
     "data": {
      "text/plain": [
       "tensor([0.0000, 0.0156, 0.0312, 0.0469, 0.0625, 0.0781, 0.0938, 0.1094, 0.1250,\n",
       "        0.1406, 0.1562, 0.1719, 0.1875, 0.2031, 0.2188, 0.2344, 0.2500, 0.2656,\n",
       "        0.2812, 0.2969, 0.3125, 0.3281, 0.3438, 0.3594, 0.3750, 0.3906, 0.4062,\n",
       "        0.4219, 0.4375, 0.4531, 0.4688, 0.4844, 0.5000, 0.5156, 0.5312, 0.5469,\n",
       "        0.5625, 0.5781, 0.5938, 0.6094, 0.6250, 0.6406, 0.6562, 0.6719, 0.6875,\n",
       "        0.7031, 0.7188, 0.7344, 0.7500, 0.7656, 0.7812, 0.7969, 0.8125, 0.8281,\n",
       "        0.8438, 0.8594, 0.8750, 0.8906, 0.9062, 0.9219, 0.9375, 0.9531, 0.9688,\n",
       "        0.9844])"
      ]
     },
     "execution_count": 129,
     "metadata": {},
     "output_type": "execute_result"
    }
   ],
   "source": [
    "zerotooneSplit = torch.tensor(range(64))/64\n",
    "zerotooneSplit"
   ]
  },
  {
   "cell_type": "code",
   "execution_count": 130,
   "id": "35663bc0",
   "metadata": {},
   "outputs": [
    {
     "data": {
      "text/plain": [
       "tensor([1.0000e+00, 8.1462e-01, 6.6360e-01, 5.4058e-01, 4.4037e-01, 3.5873e-01,\n",
       "        2.9223e-01, 2.3805e-01, 1.9392e-01, 1.5797e-01, 1.2869e-01, 1.0483e-01,\n",
       "        8.5397e-02, 6.9566e-02, 5.6670e-02, 4.6164e-02, 3.7606e-02, 3.0635e-02,\n",
       "        2.4955e-02, 2.0329e-02, 1.6560e-02, 1.3490e-02, 1.0990e-02, 8.9523e-03,\n",
       "        7.2927e-03, 5.9407e-03, 4.8394e-03, 3.9423e-03, 3.2114e-03, 2.6161e-03,\n",
       "        2.1311e-03, 1.7360e-03, 1.4142e-03, 1.1520e-03, 9.3847e-04, 7.6450e-04,\n",
       "        6.2277e-04, 5.0732e-04, 4.1327e-04, 3.3666e-04, 2.7425e-04, 2.2341e-04,\n",
       "        1.8199e-04, 1.4825e-04, 1.2077e-04, 9.8381e-05, 8.0143e-05, 6.5286e-05,\n",
       "        5.3183e-05, 4.3324e-05, 3.5292e-05, 2.8750e-05, 2.3420e-05, 1.9078e-05,\n",
       "        1.5542e-05, 1.2660e-05, 1.0313e-05, 8.4015e-06, 6.8440e-06, 5.5752e-06,\n",
       "        4.5417e-06, 3.6997e-06, 3.0139e-06, 2.4551e-06])"
      ]
     },
     "execution_count": 130,
     "metadata": {},
     "output_type": "execute_result"
    }
   ],
   "source": [
    "freqs = 1.0 / (rope_theta ** zerotooneSplit)\n",
    "freqs"
   ]
  },
  {
   "cell_type": "code",
   "execution_count": 131,
   "id": "8eb51ac6",
   "metadata": {},
   "outputs": [
    {
     "data": {
      "image/png": "[encoded data removed]",
      "text/plain": [
       "<Figure size 640x480 with 1 Axes>"
      ]
     },
     "metadata": {},
     "output_type": "display_data"
    }
   ],
   "source": [
    "import os\n",
    "os.environ['KMP_DUPLICATE_LIB_OK']='True'\n",
    "freqs_for_each_token = torch.outer(torch.arange(17), freqs)\n",
    "freqs_for_each_token\n",
    "\n",
    "freqs_cis = torch.polar(torch.ones_like(freqs_for_each_token), freqs_for_each_token)\n",
    "freqs_cis.shape\n",
    "\n",
    "# viewing tjhe third row of freqs_cis\n",
    "value = freqs_cis[3]\n",
    "plt.figure()\n",
    "for i, element in enumerate(value[:17]):\n",
    "    plt.plot([0, element.real], [0, element.imag], color='blue', linewidth=1, label=f\"Index: {i}\")\n",
    "    plt.annotate(f\"{i}\", xy=(element.real, element.imag), color='red')\n",
    "plt.xlabel('Real')\n",
    "plt.ylabel('Imaginary')\n",
    "plt.title('Plot of one row of freqs_cis')\n",
    "plt.show()"
   ]
  },
  {
   "cell_type": "code",
   "execution_count": 132,
   "id": "32670819",
   "metadata": {},
   "outputs": [
    {
     "data": {
      "text/plain": [
       "torch.Size([17, 64])"
      ]
     },
     "execution_count": 132,
     "metadata": {},
     "output_type": "execute_result"
    }
   ],
   "source": [
    "freqs_for_each_token.shape"
   ]
  },
  {
   "cell_type": "code",
   "execution_count": 133,
   "id": "34645022",
   "metadata": {},
   "outputs": [
    {
     "data": {
      "text/plain": [
       "tensor([-0.9900+1.4112e-01j, -0.7663+6.4249e-01j, -0.4078+9.1309e-01j,\n",
       "        -0.0509+9.9870e-01j,  0.2471+9.6899e-01j,  0.4747+8.8016e-01j,\n",
       "         0.6397+7.6862e-01j,  0.7556+6.5498e-01j,  0.8355+5.4950e-01j,\n",
       "         0.8898+4.5638e-01j,  0.9264+3.7654e-01j,  0.9510+3.0933e-01j,\n",
       "         0.9674+2.5340e-01j,  0.9783+2.0719e-01j,  0.9856+1.6919e-01j,\n",
       "         0.9904+1.3805e-01j,  0.9936+1.1258e-01j,  0.9958+9.1774e-02j,\n",
       "         0.9972+7.4796e-02j,  0.9981+6.0950e-02j,  0.9988+4.9661e-02j,\n",
       "         0.9992+4.0460e-02j,  0.9995+3.2963e-02j,  0.9996+2.6854e-02j,\n",
       "         0.9998+2.1876e-02j,  0.9998+1.7821e-02j,  0.9999+1.4518e-02j,\n",
       "         0.9999+1.1827e-02j,  1.0000+9.6342e-03j,  1.0000+7.8482e-03j,\n",
       "         1.0000+6.3933e-03j,  1.0000+5.2081e-03j,  1.0000+4.2426e-03j,\n",
       "         1.0000+3.4561e-03j,  1.0000+2.8154e-03j,  1.0000+2.2935e-03j,\n",
       "         1.0000+1.8683e-03j,  1.0000+1.5220e-03j,  1.0000+1.2398e-03j,\n",
       "         1.0000+1.0100e-03j,  1.0000+8.2274e-04j,  1.0000+6.7022e-04j,\n",
       "         1.0000+5.4597e-04j,  1.0000+4.4476e-04j,  1.0000+3.6231e-04j,\n",
       "         1.0000+2.9514e-04j,  1.0000+2.4043e-04j,  1.0000+1.9586e-04j,\n",
       "         1.0000+1.5955e-04j,  1.0000+1.2997e-04j,  1.0000+1.0588e-04j,\n",
       "         1.0000+8.6249e-05j,  1.0000+7.0260e-05j,  1.0000+5.7235e-05j,\n",
       "         1.0000+4.6625e-05j,  1.0000+3.7981e-05j,  1.0000+3.0940e-05j,\n",
       "         1.0000+2.5204e-05j,  1.0000+2.0532e-05j,  1.0000+1.6726e-05j,\n",
       "         1.0000+1.3625e-05j,  1.0000+1.1099e-05j,  1.0000+9.0416e-06j,\n",
       "         1.0000+7.3654e-06j])"
      ]
     },
     "execution_count": 133,
     "metadata": {},
     "output_type": "execute_result"
    }
   ],
   "source": [
    "value\n"
   ]
  },
  {
   "cell_type": "code",
   "execution_count": 134,
   "id": "f155c014",
   "metadata": {},
   "outputs": [
    {
     "data": {
      "text/plain": [
       "torch.Size([4096, 4096])"
      ]
     },
     "execution_count": 134,
     "metadata": {},
     "output_type": "execute_result"
    }
   ],
   "source": [
    "model[\"layers.0.attention.wo.weight\"].shape"
   ]
  },
  {
   "cell_type": "code",
   "execution_count": 135,
   "id": "7fa156e9",
   "metadata": {},
   "outputs": [
    {
     "data": {
      "text/plain": [
       "torch.Size([17, 64])"
      ]
     },
     "execution_count": 135,
     "metadata": {},
     "output_type": "execute_result"
    }
   ],
   "source": [
    "q_per_token_rope_complex = torch.view_as_complex(q_per_token_rope)\n",
    "q_per_token_rope_complex.shape"
   ]
  },
  {
   "cell_type": "code",
   "execution_count": 136,
   "id": "290d5ac0",
   "metadata": {},
   "outputs": [
    {
     "data": {
      "text/plain": [
       "torch.Size([17, 64])"
      ]
     },
     "execution_count": 136,
     "metadata": {},
     "output_type": "execute_result"
    }
   ],
   "source": [
    "q_per_token_rope_rotated = q_per_token_rope_complex * freqs_cis\n",
    "q_per_token_rope_rotated.shape"
   ]
  },
  {
   "cell_type": "code",
   "execution_count": 137,
   "id": "d45a6856",
   "metadata": {},
   "outputs": [
    {
     "data": {
      "text/plain": [
       "torch.Size([17, 128])"
      ]
     },
     "execution_count": 137,
     "metadata": {},
     "output_type": "execute_result"
    }
   ],
   "source": [
    "q_per_token_rope_rotated_real = torch.view_as_real(q_per_token_rope_rotated).view(q_per_token_rope_rotated.shape[0], -1)\n",
    "q_per_token_rope_rotated_real.shape"
   ]
  },
  {
   "cell_type": "markdown",
   "id": "19850560",
   "metadata": {},
   "source": [
    "Key"
   ]
  },
  {
   "cell_type": "code",
   "execution_count": 138,
   "id": "7bb96ffd",
   "metadata": {},
   "outputs": [
    {
     "name": "stdout",
     "output_type": "stream",
     "text": [
      "torch.Size([128, 4096])\n",
      "torch.Size([17, 128])\n"
     ]
    },
    {
     "data": {
      "text/plain": [
       "torch.Size([17, 64, 2])"
      ]
     },
     "execution_count": 138,
     "metadata": {},
     "output_type": "execute_result"
    }
   ],
   "source": [
    "klayer = model[\"layers.0.attention.wk.weight\"]\n",
    "head_dim = klayer.shape[0] // n_kv_heads\n",
    "klayer = klayer.view(n_kv_heads, head_dim, dim)\n",
    "k0 = klayer[0]\n",
    "print(k0.shape)\n",
    "k_per_token = torch.matmul(token_embedding, k0.T)\n",
    "print(k_per_token.shape)\n",
    "k_per_token_rope = k_per_token.float().view(k_per_token.shape[0],-1,2)\n",
    "k_per_token_rope.shape\n"
   ]
  },
  {
   "cell_type": "code",
   "execution_count": 139,
   "id": "f3101d8f",
   "metadata": {},
   "outputs": [
    {
     "data": {
      "text/plain": [
       "torch.Size([8, 128, 4096])"
      ]
     },
     "execution_count": 139,
     "metadata": {},
     "output_type": "execute_result"
    }
   ],
   "source": [
    "klayer.shape"
   ]
  },
  {
   "cell_type": "code",
   "execution_count": 140,
   "id": "413d49d9",
   "metadata": {},
   "outputs": [
    {
     "data": {
      "text/plain": [
       "torch.Size([17, 64, 2])"
      ]
     },
     "execution_count": 140,
     "metadata": {},
     "output_type": "execute_result"
    }
   ],
   "source": [
    "k_per_token_rope.shape"
   ]
  },
  {
   "cell_type": "code",
   "execution_count": 141,
   "id": "bfa9d22d",
   "metadata": {},
   "outputs": [
    {
     "name": "stdout",
     "output_type": "stream",
     "text": [
      "torch.Size([17, 64])\n",
      "torch.Size([17, 64])\n"
     ]
    },
    {
     "data": {
      "text/plain": [
       "torch.Size([17, 128])"
      ]
     },
     "execution_count": 141,
     "metadata": {},
     "output_type": "execute_result"
    }
   ],
   "source": [
    "k_per_token_rope_complex = torch.view_as_complex(k_per_token_rope)\n",
    "print(k_per_token_rope_complex.shape)\n",
    "k_per_token_rope_rotated = k_per_token_rope_complex * freqs_cis\n",
    "print(k_per_token_rope_rotated.shape)\n",
    "k_per_token_rope_rotated_real = torch.view_as_real(k_per_token_rope_rotated).view(k_per_token_rope_rotated.shape[0], -1)\n",
    "k_per_token_rope_rotated_real.shape"
   ]
  },
  {
   "cell_type": "markdown",
   "id": "9c49a832",
   "metadata": {},
   "source": [
    "Q K 相乘"
   ]
  },
  {
   "cell_type": "code",
   "execution_count": null,
   "id": "a9b6b98c",
   "metadata": {},
   "outputs": [
    {
     "data": {
      "text/plain": [
       "torch.Size([17, 17])"
      ]
     },
     "execution_count": 142,
     "metadata": {},
     "output_type": "execute_result"
    }
   ],
   "source": [
    "q_k = torch.matmul(q_per_token_rope_rotated_real, k_per_token_rope_rotated_real.T)/(head_dim)**0.5\n",
    "q_k.shape"
   ]
  },
  {
   "cell_type": "markdown",
   "id": "184d8294",
   "metadata": {},
   "source": [
    "Mask q k Code"
   ]
  },
  {
   "cell_type": "code",
   "execution_count": 143,
   "id": "a85778dd",
   "metadata": {},
   "outputs": [
    {
     "data": {
      "image/png": "[encoded data removed]",
      "text/plain": [
       "<Figure size 640x480 with 2 Axes>"
      ]
     },
     "metadata": {},
     "output_type": "display_data"
    }
   ],
   "source": [
    "def display_qk_heatmap(qk_per_token):\n",
    "    _, ax = plt.subplots()\n",
    "    im = ax.imshow(qk_per_token.to(float).detach(), cmap='viridis')\n",
    "    ax.set_xticks(range(len(prompt_split_as_tokens)))\n",
    "    ax.set_yticks(range(len(prompt_split_as_tokens)))\n",
    "    ax.set_xticklabels(prompt_split_as_tokens)\n",
    "    ax.set_yticklabels(prompt_split_as_tokens)\n",
    "    ax.figure.colorbar(im, ax=ax)\n",
    "    \n",
    "display_qk_heatmap(q_k)"
   ]
  },
  {
   "cell_type": "code",
   "execution_count": 144,
   "id": "0bd29c27",
   "metadata": {},
   "outputs": [
    {
     "data": {
      "text/plain": [
       "tensor([[0., -inf, -inf, -inf, -inf, -inf, -inf, -inf, -inf, -inf, -inf, -inf, -inf, -inf, -inf, -inf, -inf],\n",
       "        [0., 0., -inf, -inf, -inf, -inf, -inf, -inf, -inf, -inf, -inf, -inf, -inf, -inf, -inf, -inf, -inf],\n",
       "        [0., 0., 0., -inf, -inf, -inf, -inf, -inf, -inf, -inf, -inf, -inf, -inf, -inf, -inf, -inf, -inf],\n",
       "        [0., 0., 0., 0., -inf, -inf, -inf, -inf, -inf, -inf, -inf, -inf, -inf, -inf, -inf, -inf, -inf],\n",
       "        [0., 0., 0., 0., 0., -inf, -inf, -inf, -inf, -inf, -inf, -inf, -inf, -inf, -inf, -inf, -inf],\n",
       "        [0., 0., 0., 0., 0., 0., -inf, -inf, -inf, -inf, -inf, -inf, -inf, -inf, -inf, -inf, -inf],\n",
       "        [0., 0., 0., 0., 0., 0., 0., -inf, -inf, -inf, -inf, -inf, -inf, -inf, -inf, -inf, -inf],\n",
       "        [0., 0., 0., 0., 0., 0., 0., 0., -inf, -inf, -inf, -inf, -inf, -inf, -inf, -inf, -inf],\n",
       "        [0., 0., 0., 0., 0., 0., 0., 0., 0., -inf, -inf, -inf, -inf, -inf, -inf, -inf, -inf],\n",
       "        [0., 0., 0., 0., 0., 0., 0., 0., 0., 0., -inf, -inf, -inf, -inf, -inf, -inf, -inf],\n",
       "        [0., 0., 0., 0., 0., 0., 0., 0., 0., 0., 0., -inf, -inf, -inf, -inf, -inf, -inf],\n",
       "        [0., 0., 0., 0., 0., 0., 0., 0., 0., 0., 0., 0., -inf, -inf, -inf, -inf, -inf],\n",
       "        [0., 0., 0., 0., 0., 0., 0., 0., 0., 0., 0., 0., 0., -inf, -inf, -inf, -inf],\n",
       "        [0., 0., 0., 0., 0., 0., 0., 0., 0., 0., 0., 0., 0., 0., -inf, -inf, -inf],\n",
       "        [0., 0., 0., 0., 0., 0., 0., 0., 0., 0., 0., 0., 0., 0., 0., -inf, -inf],\n",
       "        [0., 0., 0., 0., 0., 0., 0., 0., 0., 0., 0., 0., 0., 0., 0., 0., -inf],\n",
       "        [0., 0., 0., 0., 0., 0., 0., 0., 0., 0., 0., 0., 0., 0., 0., 0., 0.]])"
      ]
     },
     "execution_count": 144,
     "metadata": {},
     "output_type": "execute_result"
    }
   ],
   "source": [
    "mask = torch.full((len(prompt_tokens), len(prompt_tokens)), float(\"-inf\"), device=prompt_tokens.device)\n",
    "mask = torch.triu(mask, diagonal=1)\n",
    "mask"
   ]
  },
  {
   "cell_type": "code",
   "execution_count": 145,
   "id": "f4d5a969",
   "metadata": {},
   "outputs": [
    {
     "data": {
      "image/png": "[encoded data removed]",
      "text/plain": [
       "<Figure size 640x480 with 2 Axes>"
      ]
     },
     "metadata": {},
     "output_type": "display_data"
    }
   ],
   "source": [
    "qk_per_token_after_masking = q_k + mask\n",
    "display_qk_heatmap(qk_per_token_after_masking)"
   ]
  },
  {
   "cell_type": "code",
   "execution_count": 146,
   "id": "c30a0d6f",
   "metadata": {},
   "outputs": [
    {
     "data": {
      "image/png": "[encoded data removed]",
      "text/plain": [
       "<Figure size 640x480 with 2 Axes>"
      ]
     },
     "metadata": {},
     "output_type": "display_data"
    }
   ],
   "source": [
    "qk_per_token_after_masking_after_softmax = torch.nn.functional.softmax(qk_per_token_after_masking, dim=1).to(torch.bfloat16)\n",
    "display_qk_heatmap(qk_per_token_after_masking_after_softmax)"
   ]
  },
  {
   "cell_type": "markdown",
   "id": "c5afb45f",
   "metadata": {},
   "source": [
    "Value"
   ]
  },
  {
   "cell_type": "code",
   "execution_count": 147,
   "id": "5d9bab45",
   "metadata": {},
   "outputs": [
    {
     "data": {
      "text/plain": [
       "torch.Size([8, 128, 4096])"
      ]
     },
     "execution_count": 147,
     "metadata": {},
     "output_type": "execute_result"
    }
   ],
   "source": [
    "value_layer = model[\"layers.0.attention.wv.weight\"]\n",
    "value_layer = value_layer.view(n_kv_heads, -1, dim)\n",
    "value_layer.shape"
   ]
  },
  {
   "cell_type": "code",
   "execution_count": 148,
   "id": "c01ab9f6",
   "metadata": {},
   "outputs": [
    {
     "data": {
      "text/plain": [
       "torch.Size([128, 4096])"
      ]
     },
     "execution_count": 148,
     "metadata": {},
     "output_type": "execute_result"
    }
   ],
   "source": [
    "v_0 = value_layer[0]\n",
    "v_0.shape"
   ]
  },
  {
   "cell_type": "code",
   "execution_count": 149,
   "id": "10b5adb1",
   "metadata": {},
   "outputs": [
    {
     "name": "stdout",
     "output_type": "stream",
     "text": [
      "torch.Size([17, 128])\n"
     ]
    }
   ],
   "source": [
    "v_per_token = torch.matmul(token_embedding, v_0.T)\n",
    "print(v_per_token.shape)"
   ]
  },
  {
   "cell_type": "markdown",
   "id": "bbf6914f",
   "metadata": {},
   "source": [
    "QKV Attention"
   ]
  },
  {
   "cell_type": "code",
   "execution_count": 150,
   "id": "cc58ca6f",
   "metadata": {},
   "outputs": [
    {
     "data": {
      "text/plain": [
       "torch.Size([17, 128])"
      ]
     },
     "execution_count": 150,
     "metadata": {},
     "output_type": "execute_result"
    }
   ],
   "source": [
    "qkv = torch.matmul(qk_per_token_after_masking_after_softmax, v_per_token)\n",
    "qkv.shape"
   ]
  },
  {
   "cell_type": "markdown",
   "id": "e66950fc",
   "metadata": {},
   "source": [
    "MultiHead"
   ]
  },
  {
   "cell_type": "code",
   "execution_count": null,
   "id": "af87ebd3",
   "metadata": {},
   "outputs": [
    {
     "data": {
      "text/plain": [
       "torch.Size([17, 4096])"
      ]
     },
     "execution_count": 151,
     "metadata": {},
     "output_type": "execute_result"
    }
   ],
   "source": [
    "qkv_array = []\n",
    "\n",
    "for head in range(n_heads):\n",
    "    q_i = qlayer[head]\n",
    "    k_i = klayer[head // 4]\n",
    "    v_i = value_layer[head // 4]\n",
    "\n",
    "    q_embedding = torch.matmul(token_embedding, q_i.T)\n",
    "    k_embedding = torch.matmul(token_embedding, k_i.T)\n",
    "    v_embedding = torch.matmul(token_embedding, v_i.T)\n",
    "\n",
    "    q_embedding_rope = q_embedding.float().view(q_embedding.shape[0], -1, 2)\n",
    "    k_embedding_rope = k_embedding.float().view(k_embedding.shape[0], -1, 2)\n",
    "\n",
    "    q_embedding_rope_complex = torch.view_as_complex(q_embedding_rope)\n",
    "    k_embedding_rope_complex = torch.view_as_complex(k_embedding_rope)\n",
    "    q_embedding_rope_rotated = q_embedding_rope_complex * freqs_cis\n",
    "    k_embedding_rope_rotated = k_embedding_rope_complex * freqs_cis\n",
    "    q_embedding_rope_rotated_real = torch.view_as_real(q_embedding_rope_rotated).view(q_embedding_rope_rotated.shape[0], -1)\n",
    "    k_embedding_rope_rotated_real = torch.view_as_real(k_embedding_rope_rotated).view(k_embedding_rope_rotated.shape[0], -1)\n",
    "    q_k = torch.matmul(q_embedding_rope_rotated_real, k_embedding_rope_rotated_real.T)/(128)**0.5\n",
    "    mask = torch.full((len(prompt_tokens), len(prompt_tokens)), float(\"-inf\"), device=prompt_tokens.device)\n",
    "    mask = torch.triu(mask, diagonal=1)\n",
    "    q_k_after_masking = q_k + mask\n",
    "    q_k_after_masking_after_softmax = torch.nn.functional.softmax(q_k_after_masking, dim=1).to(torch.bfloat16)\n",
    "\n",
    "    qkv = torch.matmul(q_k_after_masking_after_softmax, v_embedding)\n",
    "    qkv_array.append(qkv)\n",
    "qkv_output = torch.cat(qkv_array, dim=-1)\n",
    "qkv_output.shape\n"
   ]
  },
  {
   "cell_type": "markdown",
   "id": "9b8dd4ba",
   "metadata": {},
   "source": [
    "Attention Output"
   ]
  },
  {
   "cell_type": "code",
   "execution_count": 152,
   "id": "577db8a0",
   "metadata": {},
   "outputs": [
    {
     "data": {
      "text/plain": [
       "torch.Size([4096, 4096])"
      ]
     },
     "execution_count": 152,
     "metadata": {},
     "output_type": "execute_result"
    }
   ],
   "source": [
    "o_layer = model[\"layers.0.attention.wo.weight\"]\n",
    "o_layer.shape"
   ]
  },
  {
   "cell_type": "code",
   "execution_count": 153,
   "id": "1154cda8",
   "metadata": {},
   "outputs": [
    {
     "data": {
      "text/plain": [
       "torch.Size([17, 4096])"
      ]
     },
     "execution_count": 153,
     "metadata": {},
     "output_type": "execute_result"
    }
   ],
   "source": [
    "output = torch.matmul(qkv_output, o_layer.T)\n",
    "output.shape"
   ]
  },
  {
   "cell_type": "code",
   "execution_count": 154,
   "id": "f7d43b0f",
   "metadata": {},
   "outputs": [
    {
     "data": {
      "text/plain": [
       "torch.Size([17, 4096])"
      ]
     },
     "execution_count": 154,
     "metadata": {},
     "output_type": "execute_result"
    }
   ],
   "source": [
    "token_embeddings_output = token_embeddings_unnormalized + output\n",
    "token_embeddings_output.shape"
   ]
  },
  {
   "cell_type": "markdown",
   "id": "ef311afb",
   "metadata": {},
   "source": [
    "Normalize"
   ]
  },
  {
   "cell_type": "code",
   "execution_count": 155,
   "id": "9c2c12fa",
   "metadata": {},
   "outputs": [
    {
     "data": {
      "text/plain": [
       "torch.Size([17, 4096])"
      ]
     },
     "execution_count": 155,
     "metadata": {},
     "output_type": "execute_result"
    }
   ],
   "source": [
    "token_embeddings_output_normalized = rms(token_embeddings_output, weight=model[\"layers.0.ffn_norm.weight\"])\n",
    "token_embeddings_output_normalized.shape"
   ]
  },
  {
   "cell_type": "code",
   "execution_count": 156,
   "id": "cd7745ea",
   "metadata": {},
   "outputs": [],
   "source": [
    "w1 = model[\"layers.0.feed_forward.w1.weight\"]\n",
    "w2 = model[\"layers.0.feed_forward.w2.weight\"]\n",
    "w3 = model[\"layers.0.feed_forward.w3.weight\"]"
   ]
  },
  {
   "cell_type": "code",
   "execution_count": 157,
   "id": "63fbff32",
   "metadata": {},
   "outputs": [
    {
     "data": {
      "text/plain": [
       "torch.Size([17, 4096])"
      ]
     },
     "execution_count": 157,
     "metadata": {},
     "output_type": "execute_result"
    }
   ],
   "source": [
    "token_embeddings_output_ffn = torch.matmul((torch.functional.F.silu(torch.matmul(token_embeddings_output_normalized, w1.T)) * torch.matmul(token_embeddings_output_normalized, w3.T)),w2.T)\n",
    "token_embeddings_output_ffn.shape"
   ]
  },
  {
   "cell_type": "code",
   "execution_count": 158,
   "id": "df0c345c",
   "metadata": {},
   "outputs": [
    {
     "data": {
      "text/plain": [
       "torch.Size([17, 4096])"
      ]
     },
     "execution_count": 158,
     "metadata": {},
     "output_type": "execute_result"
    }
   ],
   "source": [
    "layer_output = token_embeddings_output + token_embeddings_output_ffn\n",
    "layer_output.shape"
   ]
  },
  {
   "cell_type": "markdown",
   "id": "57d666cd",
   "metadata": {},
   "source": [
    "All Layer!"
   ]
  },
  {
   "cell_type": "code",
   "execution_count": 168,
   "id": "83f09942",
   "metadata": {},
   "outputs": [
    {
     "data": {
      "text/plain": [
       "torch.Size([17, 4096])"
      ]
     },
     "execution_count": 168,
     "metadata": {},
     "output_type": "execute_result"
    }
   ],
   "source": [
    "final_embedding = token_embeddings_unnormalized\n",
    "for layer in range(n_layers):\n",
    "    layer_embedding_norm = rms(final_embedding, model[f\"layers.{layer}.attention_norm.weight\"])\n",
    "    qkv_array_i_layer = []\n",
    "    qlayer = model[f\"layers.{layer}.attention.wq.weight\"]\n",
    "    qlayer = qlayer.view(n_heads, -1, dim)\n",
    "    klayer = model[f\"layers.{layer}.attention.wk.weight\"] \n",
    "    klayer = klayer.view(n_kv_heads, -1, dim)\n",
    "    vlayer = model[f\"layers.{layer}.attention.wv.weight\"]\n",
    "    vlayer = vlayer.view(n_kv_heads, -1, dim)\n",
    "    olayer = model[f\"layers.{layer}.attention.wo.weight\"]\n",
    "    for head in range(n_heads):\n",
    "        q_i = qlayer[head]\n",
    "        k_i = klayer[head // 4]\n",
    "        v_i = vlayer[head // 4]\n",
    "\n",
    "        q_embedding = torch.matmul(layer_embedding_norm, q_i.T)\n",
    "        k_embedding = torch.matmul(layer_embedding_norm, k_i.T)\n",
    "        v_embedding = torch.matmul(layer_embedding_norm, v_i.T)\n",
    "\n",
    "        q_embedding_rope = q_embedding.float().view(q_embedding.shape[0], -1, 2)\n",
    "        k_embedding_rope = k_embedding.float().view(k_embedding.shape[0], -1, 2)\n",
    "\n",
    "        q_embedding_rope_complex = torch.view_as_complex(q_embedding_rope)\n",
    "        k_embedding_rope_complex = torch.view_as_complex(k_embedding_rope)\n",
    "        q_embedding_rope_rotated = q_embedding_rope_complex * freqs_cis\n",
    "        k_embedding_rope_rotated = k_embedding_rope_complex * freqs_cis\n",
    "        q_embedding_rope_rotated_real = torch.view_as_real(q_embedding_rope_rotated).view(q_embedding_rope_rotated.shape[0], -1)\n",
    "        k_embedding_rope_rotated_real = torch.view_as_real(k_embedding_rope_rotated).view(k_embedding_rope_rotated.shape[0], -1)\n",
    "        q_k = torch.matmul(q_embedding_rope_rotated_real, k_embedding_rope_rotated_real.T)/(128)**0.5\n",
    "        mask = torch.full((len(prompt_tokens), len(prompt_tokens)), float(\"-inf\"), device=prompt_tokens.device)\n",
    "        mask = torch.triu(mask, diagonal=1)\n",
    "        q_k_after_masking = q_k + mask\n",
    "        q_k_after_masking_after_softmax = torch.nn.functional.softmax(q_k_after_masking, dim=1).to(torch.bfloat16)\n",
    "\n",
    "        qkv = torch.matmul(q_k_after_masking_after_softmax, v_embedding)\n",
    "        qkv_array_i_layer.append(qkv)\n",
    "    qkv_output_layer = torch.cat(qkv_array_i_layer, dim=-1)\n",
    "    attention_output = torch.matmul(qkv_output_layer, olayer.T)\n",
    "    attention_output_editted = final_embedding + attention_output\n",
    "    attention_output_normalized = rms(attention_output_editted, weight=model[f\"layers.{layer}.ffn_norm.weight\"])\n",
    "    w1 = model[f\"layers.{layer}.feed_forward.w1.weight\"]\n",
    "    w2 = model[f\"layers.{layer}.feed_forward.w2.weight\"]\n",
    "    w3 = model[f\"layers.{layer}.feed_forward.w3.weight\"]\n",
    "    ffn_output = torch.matmul((torch.functional.F.silu(torch.matmul(attention_output_normalized, w1.T)) * torch.matmul(attention_output_normalized, w3.T)), w2.T)\n",
    "    final_embedding = attention_output_editted + ffn_output\n",
    "\n",
    "final_embedding.shape\n",
    "    "
   ]
  },
  {
   "cell_type": "code",
   "execution_count": 169,
   "id": "7a47fedd",
   "metadata": {},
   "outputs": [
    {
     "data": {
      "text/plain": [
       "torch.Size([17, 4096])"
      ]
     },
     "execution_count": 169,
     "metadata": {},
     "output_type": "execute_result"
    }
   ],
   "source": [
    "final_embedding = rms(final_embedding, model[\"norm.weight\"])\n",
    "final_embedding.shape"
   ]
  },
  {
   "cell_type": "code",
   "execution_count": 170,
   "id": "aba13238",
   "metadata": {},
   "outputs": [
    {
     "data": {
      "text/plain": [
       "tensor([[ 4.1875, -0.2451, -1.8281,  ..., -2.8438,  1.4062,  0.1089],\n",
       "        [-2.4844, -0.2793, -2.1094,  ..., -0.7695, -0.7344,  0.3125],\n",
       "        [ 1.5391, -1.9062,  3.8906,  ...,  1.5703,  1.8281, -0.3301],\n",
       "        ...,\n",
       "        [-1.3984, -0.5703,  1.4062,  ..., -0.7734,  1.4922, -0.1875],\n",
       "        [-2.8906, -1.1406,  0.5391,  ...,  0.2051,  1.6484, -0.0544],\n",
       "        [-2.7031, -2.5781,  2.8906,  ...,  0.5977,  4.6875,  0.3965]],\n",
       "       dtype=torch.bfloat16, grad_fn=<MulBackward0>)"
      ]
     },
     "execution_count": 170,
     "metadata": {},
     "output_type": "execute_result"
    }
   ],
   "source": [
    "final_embedding"
   ]
  },
  {
   "cell_type": "code",
   "execution_count": 171,
   "id": "e2e62344",
   "metadata": {},
   "outputs": [
    {
     "data": {
      "text/plain": [
       "torch.Size([128256])"
      ]
     },
     "execution_count": 171,
     "metadata": {},
     "output_type": "execute_result"
    }
   ],
   "source": [
    "logits = torch.matmul(final_embedding[-1], model[\"output.weight\"].T)\n",
    "logits.shape"
   ]
  },
  {
   "cell_type": "code",
   "execution_count": 172,
   "id": "6b251fb2",
   "metadata": {},
   "outputs": [
    {
     "data": {
      "text/plain": [
       "tensor([ 1.9531, -1.3203,  1.2578,  ..., -3.3594, -3.3594, -3.3594],\n",
       "       dtype=torch.bfloat16, grad_fn=<SqueezeBackward4>)"
      ]
     },
     "execution_count": 172,
     "metadata": {},
     "output_type": "execute_result"
    }
   ],
   "source": [
    "logits"
   ]
  },
  {
   "cell_type": "code",
   "execution_count": 173,
   "id": "5aee3601",
   "metadata": {},
   "outputs": [
    {
     "data": {
      "text/plain": [
       "tensor(2983)"
      ]
     },
     "execution_count": 173,
     "metadata": {},
     "output_type": "execute_result"
    }
   ],
   "source": [
    "next_token = torch.argmax(logits, dim=-1)\n",
    "next_token"
   ]
  },
  {
   "cell_type": "code",
   "execution_count": 174,
   "id": "8a45d117",
   "metadata": {},
   "outputs": [
    {
     "data": {
      "text/plain": [
       "'42'"
      ]
     },
     "execution_count": 174,
     "metadata": {},
     "output_type": "execute_result"
    }
   ],
   "source": [
    "tokenizer.decode([next_token.item()])"
   ]
  },
  {
   "cell_type": "code",
   "execution_count": null,
   "id": "010d19a4",
   "metadata": {},
   "outputs": [],
   "source": []
  }
 ],
 "metadata": {
  "kernelspec": {
   "display_name": "base",
   "language": "python",
   "name": "python3"
  },
  "language_info": {
   "codemirror_mode": {
    "name": "ipython",
    "version": 3
   },
   "file_extension": ".py",
   "mimetype": "text/x-python",
   "name": "python",
   "nbconvert_exporter": "python",
   "pygments_lexer": "ipython3",
   "version": "3.11.4"
  }
 },
 "nbformat": 4,
 "nbformat_minor": 5
}
